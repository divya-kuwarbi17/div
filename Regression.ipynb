{
 "cells": [
  {
   "cell_type": "markdown",
   "metadata": {
    "id": "PFvbQuwlG3FR"
   },
   "source": [
    "**Simple Linear Regreesion**\n",
    "\n",
    "\n",
    "> $y = m.x + c = \\beta_0 + \\beta_1 X$ \\\\\n",
    "> $\\beta_1 = \\dfrac{\\sum_{i=0}^n (x_i-\\bar{x}) (y_i-\\bar{y})}{\\sum_{i=0}^n (x_i-\\bar{x})^2}$ \\\\\n",
    "> $\\beta_0 = \\bar{y}-\\beta_1 \\times \\bar{x}$\n",
    "\n",
    "\n",
    "\n",
    "\n"
   ]
  },
  {
   "cell_type": "code",
   "execution_count": 2,
   "metadata": {
    "id": "C9wyxFWwHYnl"
   },
   "outputs": [],
   "source": [
    "import numpy as np\n",
    "\n",
    "def hypothesis(x, coef, inter):\n",
    "  y = np.add(np.multiply(x, coef), inter)\n",
    "  return y\n"
   ]
  },
  {
   "cell_type": "code",
   "execution_count": 3,
   "metadata": {
    "id": "3tViLXU3OB6j"
   },
   "outputs": [],
   "source": [
    "def compute_inter(beta_1, x, y):\n",
    "  x_avg = np.average(x)\n",
    "  y_avg = np.average(y)\n",
    "\n",
    "  beta_zero =  y_avg - np.multiply(beta_1, x_avg)\n",
    "  return beta_zero"
   ]
  },
  {
   "cell_type": "code",
   "execution_count": 4,
   "metadata": {
    "id": "PXoktldKPUjh"
   },
   "outputs": [],
   "source": [
    "def compute_coef(x, y):\n",
    "  x_avg = np.average(x)\n",
    "  y_avg = np.average(y)\n",
    "\n",
    "  numerator, denominator = 0, 0\n",
    "\n",
    "  for i in range(len(x)):\n",
    "    x_value = x[i]\n",
    "    y_value = y[i]\n",
    "\n",
    "    numerator += (x_value - x_avg) * (y_value - y_avg)\n",
    "    denominator += (x_value - x_avg)**2\n",
    "\n",
    "  return numerator/denominator\n",
    "\n"
   ]
  },
  {
   "cell_type": "code",
   "execution_count": 5,
   "metadata": {
    "id": "zhG64D9FQWJM"
   },
   "outputs": [],
   "source": [
    "def R2_score(y_true, y_pred):\n",
    "  y_average = np.average(y_true)\n",
    "\n",
    "  residual_SS, total_SS = 0, 0\n",
    "\n",
    "  for i in range(len(y_true)):\n",
    "    residual_SS += (y_true[i] - y_pred[i])**2\n",
    "    total_SS += (y_true[i] - y_average)**2\n",
    "  \n",
    "  return 1- residual_SS/total_SS\n",
    "\n"
   ]
  },
  {
   "cell_type": "code",
   "execution_count": 6,
   "metadata": {
    "id": "aXKmHCpKTGX-"
   },
   "outputs": [],
   "source": [
    "class SimpleLR():\n",
    "  def __init__(self):\n",
    "    self.intercept = 0\n",
    "    self.coefficient = 0\n",
    "\n",
    "  def predict(self, x):\n",
    "    y = np.add(np.multiply(x, self.coefficient), self.intercept)\n",
    "    return y\n",
    "\n",
    "  def fit(self, x, y):\n",
    "    self.intercept = self.compute_inter(x, y)\n",
    "    self.coefficient = self.compute_coef(x, y)\n",
    "\n",
    "    prediction = self.predict(x)\n",
    "    return self.R2_score(y, prediction), prediction\n",
    "  \n",
    "  def compute_coef(self, x, y):\n",
    "    x_avg = np.average(x)\n",
    "    y_avg = np.average(y)\n",
    "\n",
    "    numerator, denominator = 0, 0\n",
    "\n",
    "    for i in range(len(x)):\n",
    "      x_value = x[i]\n",
    "      y_value = y[i]\n",
    "\n",
    "      numerator += (x_value - x_avg) * (y_value - y_avg)\n",
    "      denominator += (x_value - x_avg)**2\n",
    "\n",
    "    return numerator/denominator\n",
    "\n",
    "  \n",
    "  def compute_inter(self, x, y):\n",
    "    x_avg = np.average(x)\n",
    "    y_avg = np.average(y)\n",
    "\n",
    "    beta_zero =  y_avg - np.multiply(self.coefficient, x_avg)\n",
    "    return beta_zero\n",
    "  \n",
    "\n",
    "  def R2_score(self, y_true, y_pred):\n",
    "    y_average = np.average(y_true)\n",
    "    residual_SS, total_SS = 0, 0\n",
    "\n",
    "    for i in range(len(y_true)):\n",
    "      residual_SS += (y_true[i] - y_pred[i])**2\n",
    "      total_SS += (y_true[i] - y_average)**2\n",
    "    \n",
    "    return 1- residual_SS/total_SS\n",
    "  "
   ]
  },
  {
   "cell_type": "code",
   "execution_count": 23,
   "metadata": {
    "id": "GW_BKzbuRusB"
   },
   "outputs": [
    {
     "ename": "AttributeError",
     "evalue": "'function' object has no attribute 'head'",
     "output_type": "error",
     "traceback": [
      "\u001b[1;31m---------------------------------------------------------------------------\u001b[0m",
      "\u001b[1;31mAttributeError\u001b[0m                            Traceback (most recent call last)",
      "\u001b[1;32m<ipython-input-23-e0f4964ef7d7>\u001b[0m in \u001b[0;36m<module>\u001b[1;34m\u001b[0m\n\u001b[0;32m      1\u001b[0m \u001b[1;32mfrom\u001b[0m \u001b[0msklearn\u001b[0m\u001b[1;33m.\u001b[0m\u001b[0mdatasets\u001b[0m \u001b[1;32mimport\u001b[0m \u001b[0mload_boston\u001b[0m\u001b[1;33m\u001b[0m\u001b[1;33m\u001b[0m\u001b[0m\n\u001b[0;32m      2\u001b[0m \u001b[0mdata\u001b[0m \u001b[1;33m=\u001b[0m \u001b[0mload_boston\u001b[0m\u001b[1;33m\u001b[0m\u001b[1;33m\u001b[0m\u001b[0m\n\u001b[1;32m----> 3\u001b[1;33m \u001b[0mdata\u001b[0m\u001b[1;33m.\u001b[0m\u001b[0mhead\u001b[0m\u001b[1;33m(\u001b[0m\u001b[1;36m5\u001b[0m\u001b[1;33m)\u001b[0m\u001b[1;33m\u001b[0m\u001b[1;33m\u001b[0m\u001b[0m\n\u001b[0m",
      "\u001b[1;31mAttributeError\u001b[0m: 'function' object has no attribute 'head'"
     ]
    }
   ],
   "source": [
    "from sklearn.datasets import load_boston"
   ]
  },
  {
   "cell_type": "code",
   "execution_count": 8,
   "metadata": {
    "id": "vpqgJkzTSXnW"
   },
   "outputs": [],
   "source": [
    "X, y = load_boston(return_X_y=True)"
   ]
  },
  {
   "cell_type": "code",
   "execution_count": 9,
   "metadata": {
    "colab": {
     "base_uri": "https://localhost:8080/"
    },
    "id": "_eSo6cyYaN4L",
    "outputId": "ef77c152-597c-4dd7-9857-070cf621ffd9"
   },
   "outputs": [
    {
     "name": "stdout",
     "output_type": "stream",
     "text": [
      "(506, 13)\n"
     ]
    }
   ],
   "source": [
    "print(X.shape)"
   ]
  },
  {
   "cell_type": "code",
   "execution_count": 21,
   "metadata": {
    "id": "hEP7UGGWWMVW"
   },
   "outputs": [
    {
     "name": "stdout",
     "output_type": "stream",
     "text": [
      "[[6.3200e-03 1.8000e+01 2.3100e+00 0.0000e+00]\n",
      " [2.7310e-02 0.0000e+00 7.0700e+00 0.0000e+00]\n",
      " [2.7290e-02 0.0000e+00 7.0700e+00 0.0000e+00]\n",
      " ...\n",
      " [6.0760e-02 0.0000e+00 1.1930e+01 0.0000e+00]\n",
      " [1.0959e-01 0.0000e+00 1.1930e+01 0.0000e+00]\n",
      " [4.7410e-02 0.0000e+00 1.1930e+01 0.0000e+00]]\n"
     ]
    }
   ],
   "source": [
    "X_train = X[:,0]\n",
    "Y_train = y\n"
   ]
  },
  {
   "cell_type": "code",
   "execution_count": 14,
   "metadata": {
    "id": "kRj4O6yCW8SI"
   },
   "outputs": [],
   "source": [
    "SLR = SimpleLR()"
   ]
  },
  {
   "cell_type": "code",
   "execution_count": 15,
   "metadata": {
    "id": "xGpi3rj0Xjz9"
   },
   "outputs": [],
   "source": [
    "r2Score, pred = SLR.fit(X_train, Y_train)"
   ]
  },
  {
   "cell_type": "code",
   "execution_count": 16,
   "metadata": {
    "colab": {
     "base_uri": "https://localhost:8080/"
    },
    "id": "nNdQlTMSXsfW",
    "outputId": "183ff83c-2828-4091-ca59-4ec40c286309"
   },
   "outputs": [
    {
     "name": "stdout",
     "output_type": "stream",
     "text": [
      "0.12411722012452431\n"
     ]
    }
   ],
   "source": [
    "print(r2Score)"
   ]
  },
  {
   "cell_type": "code",
   "execution_count": 17,
   "metadata": {
    "colab": {
     "base_uri": "https://localhost:8080/"
    },
    "id": "4D-PGsvIY4G-",
    "outputId": "df13ad45-abef-49e7-fcb5-b9a82370a929"
   },
   "outputs": [
    {
     "name": "stdout",
     "output_type": "stream",
     "text": [
      "(506,)\n",
      "(506,)\n"
     ]
    }
   ],
   "source": [
    "print(pred.shape)\n",
    "print(Y_train.shape)"
   ]
  },
  {
   "cell_type": "code",
   "execution_count": 18,
   "metadata": {
    "colab": {
     "base_uri": "https://localhost:8080/"
    },
    "id": "IgemRQRnZDHN",
    "outputId": "aecd0ffd-740a-4a5c-a944-bff944e65d51"
   },
   "outputs": [
    {
     "name": "stdout",
     "output_type": "stream",
     "text": [
      "0.12411722012452431\n"
     ]
    }
   ],
   "source": [
    "r2_score = SLR.R2_score(Y_train, pred)\n",
    "print(r2_score)"
   ]
  },
  {
   "cell_type": "code",
   "execution_count": 20,
   "metadata": {
    "colab": {
     "base_uri": "https://localhost:8080/",
     "height": 295
    },
    "id": "V0mR581hZRsq",
    "outputId": "78863e21-fe0c-456f-8156-be3a4541a69e"
   },
   "outputs": [
    {
     "data": {
      "image/png": "[encoded data removed]",
      "text/plain": [
       "<Figure size 432x288 with 1 Axes>"
      ]
     },
     "metadata": {
      "needs_background": "light"
     },
     "output_type": "display_data"
    }
   ],
   "source": [
    "import matplotlib.pyplot as plt\n",
    "\n",
    "plt.scatter( X_train, y, color = 'blue' )\n",
    "\n",
    "plt.plot( X_train, pred, color = 'orange' )\n",
    "  \n",
    "plt.title( 'Price vs House Size' )\n",
    "  \n",
    "plt.xlabel( 'House Size' )\n",
    "  \n",
    "plt.ylabel( 'Price of House' )\n",
    "  \n",
    "plt.show()"
   ]
  },
  {
   "cell_type": "code",
   "execution_count": null,
   "metadata": {
    "id": "9tC3TpWGdDVX"
   },
   "outputs": [],
   "source": []
  }
 ],
 "metadata": {
  "colab": {
   "collapsed_sections": [],
   "name": "Regression.ipynb",
   "provenance": []
  },
  "kernelspec": {
   "display_name": "Python 3",
   "language": "python",
   "name": "python3"
  },
  "language_info": {
   "codemirror_mode": {
    "name": "ipython",
    "version": 3
   },
   "file_extension": ".py",
   "mimetype": "text/x-python",
   "name": "python",
   "nbconvert_exporter": "python",
   "pygments_lexer": "ipython3",
   "version": "3.8.5"
  }
 },
 "nbformat": 4,
 "nbformat_minor": 1
}
